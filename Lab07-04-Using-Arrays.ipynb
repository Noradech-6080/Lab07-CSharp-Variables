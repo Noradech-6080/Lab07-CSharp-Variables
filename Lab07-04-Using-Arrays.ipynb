{
 "cells": [
  {
   "cell_type": "markdown",
   "metadata": {
    "dotnet_interactive": {
     "language": "csharp"
    },
    "polyglot_notebook": {
     "kernelName": "csharp"
    }
   },
   "source": [
    "# การใช้งานตัวแปรในภาษา C#"
   ]
  },
  {
   "cell_type": "markdown",
   "metadata": {},
   "source": [
    "## 4. Array "
   ]
  },
  {
   "cell_type": "markdown",
   "metadata": {},
   "source": [
    "### 4.1 การประกาศ Array\n",
    "การประกาศ Array ในภาษา C# ทำได้โดยการระบุชนิดข้อมูลของ array ตามด้วยเครื่องหมายวงเล็บเหลี่ยม []  และชื่อของ array\n",
    "\n",
    "__รูปแบบ__\n",
    "\n",
    "<ชนิดข้อมูล>[] <ชื่อ_array>;\n",
    "\n",
    "เมื่อ\n",
    "\n",
    "- __ชนิดข้อมูล__  ระบุชนิดข้อมูลของ array เช่น int, string, double, char, bool หรือชนิดข้อมูลที่ผู้ใช้กำหนดเอง\n",
    "- __[]__  วงเล็บเหลี่ยมใช้เพื่อระบุว่าเป็น array\n",
    "- __ชื่อ_array__  ตั้งชื่อ array ตามต้องการโดยใช้หลักการตั้งชื่อตัวแปร\n"
   ]
  },
  {
   "cell_type": "code",
   "execution_count": 1,
   "metadata": {
    "vscode": {
     "languageId": "csharp"
    }
   },
   "outputs": [
    {
     "data": {
      "text/html": [
       "\r\n",
       "<div>\r\n",
       "    <div id='dotnet-interactive-this-cell-22968.Microsoft.DotNet.Interactive.Http.HttpPort' style='display: none'>\r\n",
       "        The below script needs to be able to find the current output cell; this is an easy method to get it.\r\n",
       "    </div>\r\n",
       "    <script type='text/javascript'>\r\n",
       "async function probeAddresses(probingAddresses) {\r\n",
       "    function timeout(ms, promise) {\r\n",
       "        return new Promise(function (resolve, reject) {\r\n",
       "            setTimeout(function () {\r\n",
       "                reject(new Error('timeout'))\r\n",
       "            }, ms)\r\n",
       "            promise.then(resolve, reject)\r\n",
       "        })\r\n",
       "    }\r\n",
       "\r\n",
       "    if (Array.isArray(probingAddresses)) {\r\n",
       "        for (let i = 0; i < probingAddresses.length; i++) {\r\n",
       "\r\n",
       "            let rootUrl = probingAddresses[i];\r\n",
       "\r\n",
       "            if (!rootUrl.endsWith('/')) {\r\n",
       "                rootUrl = `${rootUrl}/`;\r\n",
       "            }\r\n",
       "\r\n",
       "            try {\r\n",
       "                let response = await timeout(1000, fetch(`${rootUrl}discovery`, {\r\n",
       "                    method: 'POST',\r\n",
       "                    cache: 'no-cache',\r\n",
       "                    mode: 'cors',\r\n",
       "                    timeout: 1000,\r\n",
       "                    headers: {\r\n",
       "                        'Content-Type': 'text/plain'\r\n",
       "                    },\r\n",
       "                    body: probingAddresses[i]\r\n",
       "                }));\r\n",
       "\r\n",
       "                if (response.status == 200) {\r\n",
       "                    return rootUrl;\r\n",
       "                }\r\n",
       "            }\r\n",
       "            catch (e) { }\r\n",
       "        }\r\n",
       "    }\r\n",
       "}\r\n",
       "\r\n",
       "function loadDotnetInteractiveApi() {\r\n",
       "    probeAddresses([\"http://192.168.11.208:2051/\", \"http://127.0.0.1:2051/\"])\r\n",
       "        .then((root) => {\r\n",
       "        // use probing to find host url and api resources\r\n",
       "        // load interactive helpers and language services\r\n",
       "        let dotnetInteractiveRequire = require.config({\r\n",
       "        context: '22968.Microsoft.DotNet.Interactive.Http.HttpPort',\r\n",
       "                paths:\r\n",
       "            {\r\n",
       "                'dotnet-interactive': `${root}resources`\r\n",
       "                }\r\n",
       "        }) || require;\r\n",
       "\r\n",
       "            window.dotnetInteractiveRequire = dotnetInteractiveRequire;\r\n",
       "\r\n",
       "            window.configureRequireFromExtension = function(extensionName, extensionCacheBuster) {\r\n",
       "                let paths = {};\r\n",
       "                paths[extensionName] = `${root}extensions/${extensionName}/resources/`;\r\n",
       "                \r\n",
       "                let internalRequire = require.config({\r\n",
       "                    context: extensionCacheBuster,\r\n",
       "                    paths: paths,\r\n",
       "                    urlArgs: `cacheBuster=${extensionCacheBuster}`\r\n",
       "                    }) || require;\r\n",
       "\r\n",
       "                return internalRequire\r\n",
       "            };\r\n",
       "        \r\n",
       "            dotnetInteractiveRequire([\r\n",
       "                    'dotnet-interactive/dotnet-interactive'\r\n",
       "                ],\r\n",
       "                function (dotnet) {\r\n",
       "                    dotnet.init(window);\r\n",
       "                },\r\n",
       "                function (error) {\r\n",
       "                    console.log(error);\r\n",
       "                }\r\n",
       "            );\r\n",
       "        })\r\n",
       "        .catch(error => {console.log(error);});\r\n",
       "    }\r\n",
       "\r\n",
       "// ensure `require` is available globally\r\n",
       "if ((typeof(require) !==  typeof(Function)) || (typeof(require.config) !== typeof(Function))) {\r\n",
       "    let require_script = document.createElement('script');\r\n",
       "    require_script.setAttribute('src', 'https://cdnjs.cloudflare.com/ajax/libs/require.js/2.3.6/require.min.js');\r\n",
       "    require_script.setAttribute('type', 'text/javascript');\r\n",
       "    \r\n",
       "    \r\n",
       "    require_script.onload = function() {\r\n",
       "        loadDotnetInteractiveApi();\r\n",
       "    };\r\n",
       "\r\n",
       "    document.getElementsByTagName('head')[0].appendChild(require_script);\r\n",
       "}\r\n",
       "else {\r\n",
       "    loadDotnetInteractiveApi();\r\n",
       "}\r\n",
       "\r\n",
       "    </script>\r\n",
       "</div>"
      ]
     },
     "metadata": {},
     "output_type": "display_data"
    }
   ],
   "source": [
    "int[] numbers;         // ประกาศ array ชื่อ numbers ที่เก็บข้อมูลชนิด integer\n",
    "string[] names;       // ประกาศ array ชื่อ names ที่เก็บข้อมูลชนิด string\n",
    "double[] prices;      // ประกาศ array ชื่อ prices ที่เก็บข้อมูลชนิด double"
   ]
  },
  {
   "cell_type": "markdown",
   "metadata": {},
   "source": [
    "__การกำหนดขนาดให้กับ array__ \n",
    "\n",
    "ทำได้โดยใช้คำสั่ง new และระบุจำนวน element ในวงเล็บเหลี่ยม"
   ]
  },
  {
   "cell_type": "code",
   "execution_count": 2,
   "metadata": {
    "vscode": {
     "languageId": "csharp"
    }
   },
   "outputs": [],
   "source": [
    "int[] numbers = new int[5];       // ประกาศ array ชื่อ numbers ที่มีขนาด 5 elements\n",
    "string[] names = new string[3];     // ประกาศ array ชื่อ names ที่มีขนาด 3 elements"
   ]
  },
  {
   "cell_type": "markdown",
   "metadata": {},
   "source": [
    "__การกำหนดค่าให้กับ array__ \n",
    "\n",
    "ทำได้โดยการระบุสมาชิกของ array ในเครื่องหมายปีกกา { }   แยกด้วยเครื่องหมายจุลภาค (,)"
   ]
  },
  {
   "cell_type": "code",
   "execution_count": 3,
   "metadata": {
    "vscode": {
     "languageId": "csharp"
    }
   },
   "outputs": [],
   "source": [
    "int[] numbers = new int[5] { 1, 2, 3, 4, 5 }; \n",
    "string[] names = new string[] { \"John\", \"Jane\", \"Peter\" }; "
   ]
  },
  {
   "cell_type": "markdown",
   "metadata": {},
   "source": [
    "__การกำหนดขนาดและค่าให้กับ array ในขั้นตอนเดียว__ "
   ]
  },
  {
   "cell_type": "code",
   "execution_count": 4,
   "metadata": {
    "vscode": {
     "languageId": "csharp"
    }
   },
   "outputs": [],
   "source": [
    "int[] numbers = { 1, 2, 3, 4, 5 }; \n",
    "string[] names = { \"John\", \"Jane\", \"Peter\" }; "
   ]
  },
  {
   "cell_type": "markdown",
   "metadata": {},
   "source": [
    "### 4.2 ขอบเขตของ Array\n",
    "ขอบเขตของ Array ขึ้นอยู่กับตำแหน่งที่ประกาศ\n",
    "- ถ้าประกาศภายใน method จะมีฐานะเป็น local variable\n",
    "- ถ้าประกาศภายใน class จะมีฐานะเป็น field"
   ]
  },
  {
   "cell_type": "markdown",
   "metadata": {},
   "source": [
    "### 4.3 การใช้งาน Array\n",
    "ใช้เก็บข้อมูลหลาย ๆ ตัวที่มีชนิดข้อมูลเดียวกัน"
   ]
  },
  {
   "cell_type": "markdown",
   "metadata": {},
   "source": [
    "### 4.4 ตัวอย่างการใช้งาน Array"
   ]
  },
  {
   "cell_type": "markdown",
   "metadata": {},
   "source": [
    "#### 4.4 (A)"
   ]
  },
  {
   "cell_type": "code",
   "execution_count": 5,
   "metadata": {
    "vscode": {
     "languageId": "csharp"
    }
   },
   "outputs": [
    {
     "name": "stdout",
     "output_type": "stream",
     "text": [
      "Sunday\n",
      "Monday\n",
      "Tuesday\n",
      "Wednesday\n",
      "Thursday\n",
      "Friday\n",
      "Saturday\n"
     ]
    }
   ],
   "source": [
    "public void printDaysOfWeek()\n",
    "{\n",
    "    // ประกาศ Array เก็บชื่อวันในสัปดาห์\n",
    "    string[] daysOfWeek = { \"Sunday\", \"Monday\", \"Tuesday\", \"Wednesday\", \"Thursday\", \"Friday\", \"Saturday\" };\n",
    "\n",
    "    // แสดงชื่อวันในสัปดาห์\n",
    "    for (int i = 0; i < daysOfWeek.Length; i++)\n",
    "    {\n",
    "        Console.WriteLine(daysOfWeek[i]);\n",
    "    }\n",
    "}\n",
    "\n",
    "printDaysOfWeek();"
   ]
  },
  {
   "cell_type": "markdown",
   "metadata": {},
   "source": [
    "### 4.4 (B)"
   ]
  },
  {
   "cell_type": "code",
   "execution_count": 6,
   "metadata": {
    "vscode": {
     "languageId": "csharp"
    }
   },
   "outputs": [
    {
     "name": "stdout",
     "output_type": "stream",
     "text": [
      "Hash Code of daysOfWeek   = 722311    \n",
      "Hash Code of Sunday       = 41CC5FD9  \n",
      "Hash Code of Monday       = 7548391B  \n",
      "Hash Code of Tuesday      = A6F31810  \n",
      "Hash Code of Wednesday    = BE504F74  \n",
      "Hash Code of Thursday     = F3BC1477  \n",
      "Hash Code of Friday       = 8EB6AD04  \n",
      "Hash Code of Saturday     = 4AFE6BC7  \n"
     ]
    }
   ],
   "source": [
    " string[] daysOfWeek = { \"Sunday\", \"Monday\", \"Tuesday\", \"Wednesday\", \"Thursday\", \"Friday\", \"Saturday\" };\n",
    "\n",
    "    Console.WriteLine($\"Hash Code of daysOfWeek   = {daysOfWeek.GetHashCode(),-10:X}\");\n",
    "    for (int i = 0; i < daysOfWeek.Length; i++)\n",
    "    {\n",
    "        Console.WriteLine($\"Hash Code of {daysOfWeek[i],-12} = {daysOfWeek[i].GetHashCode(),-10:X}\");\n",
    "    }"
   ]
  },
  {
   "cell_type": "markdown",
   "metadata": {},
   "source": [
    "#### 4.4.1 การหาขนาดของอารเรย์ "
   ]
  },
  {
   "cell_type": "markdown",
   "metadata": {},
   "source": [
    "การหาขนาดของอารเรย์ ทำได้โดยการใช้ 'ชื่อ array'.Length"
   ]
  },
  {
   "cell_type": "markdown",
   "metadata": {},
   "source": [
    "#### 4.4.1 (A)"
   ]
  },
  {
   "cell_type": "code",
   "execution_count": 7,
   "metadata": {
    "vscode": {
     "languageId": "csharp"
    }
   },
   "outputs": [
    {
     "name": "stdout",
     "output_type": "stream",
     "text": [
      "Sunday\n",
      "Monday\n",
      "Tuesday\n",
      "Wednesday\n",
      "Thursday\n",
      "Friday\n",
      "Saturday\n"
     ]
    }
   ],
   "source": [
    "public void printDaysOfWeek()\n",
    "{\n",
    "    // ประกาศ Array เก็บชื่อวันในสัปดาห์\n",
    "    string[] daysOfWeek = { \"Sunday\", \"Monday\", \"Tuesday\", \"Wednesday\", \"Thursday\", \"Friday\", \"Saturday\" };\n",
    "\n",
    "    // หาขนาด array แล้ววนลูปแสดงออกทางหน้าจอ\n",
    "    for (int i = 0; i < daysOfWeek.Length; i++)\n",
    "    {\n",
    "        Console.WriteLine(daysOfWeek[i]);\n",
    "    }\n",
    "}\n",
    "\n",
    "printDaysOfWeek();"
   ]
  },
  {
   "cell_type": "markdown",
   "metadata": {},
   "source": [
    "#### 4.4.1 (B)"
   ]
  },
  {
   "cell_type": "code",
   "execution_count": 8,
   "metadata": {
    "vscode": {
     "languageId": "csharp"
    }
   },
   "outputs": [
    {
     "name": "stdout",
     "output_type": "stream",
     "text": [
      "January\n",
      "February\n",
      "March\n",
      "April\n",
      "May\n",
      "June\n",
      "July\n",
      "August\n",
      "September\n",
      "October\n",
      "November\n",
      "December\n"
     ]
    }
   ],
   "source": [
    "// ประกาศ Array เก็บชื่อเดือน (ภาษาอังกฤษ)\n",
    "string[] monthNames = { \"January\", \"February\", \"March\", \"April\", \"May\", \"June\", \n",
    "                        \"July\", \"August\", \"September\", \"October\", \"November\", \"December\" };\n",
    "\n",
    "// แสดงชื่อเดือน\n",
    "for (int i = 0; i < monthNames.Length; i++)\n",
    "{\n",
    "    Console.WriteLine(monthNames[i]);\n",
    "}\n"
   ]
  },
  {
   "cell_type": "markdown",
   "metadata": {},
   "source": [
    "#### 4.4.2 การเข้าถึงสมาชิกที่ตำแหน่งต่าง ๆ ของอารเรย์ "
   ]
  },
  {
   "cell_type": "markdown",
   "metadata": {},
   "source": [
    "การเข้าถึงสมาชิกใน array ทำได้โดยการระบุ index ของสมาชิกที่ต้องการเข้าถึง  โดย index จะเริ่มต้นที่ 0 เสมอ\n",
    "\n",
    "สมมติว่ามี array ชื่อ numbers  ดังนี้\n",
    "```csharp\n",
    "int[] numbers = {10, 20, 30, 40, 50};\n",
    "```\n",
    "\n",
    "เราสามารถเข้าถึงสมาชิกในตำแหน่งต่าง ๆ ได้ดังนี้\n",
    "``` csharp\n",
    "numbers[0]; // หมายถึงสมาชิกตัวแรกของ array ซึ่งมีค่าเท่ากับ 10\n",
    "numbers[1]; // หมายถึงสมาชิกตัวที่สองของ array ซึ่งมีค่าเท่ากับ 20\n",
    "numbers[2]; //หมายถึงสมาชิกตัวที่สามของ array ซึ่งมีค่าเท่ากับ 30 ... เป็นเช่นนี้ไปเรื่อยๆ\n",
    "```"
   ]
  },
  {
   "cell_type": "markdown",
   "metadata": {},
   "source": [
    "ถ้าต้องการเข้าถึงสมาชิกตัวสุดท้าย เราสามารถทำได้ 2 วิธี\n",
    "\n",
    "1. ระบุ index ของตัวสุดท้ายโดยตรง: ใน array numbers ข้างต้น index ของตัวสุดท้ายคือ 4 ดังนั้น numbers[4] จะหมายถึงสมาชิกตัวสุดท้าย\n",
    "2. ใช้ .Length ร่วมกับการลบ 1: .Length จะคืนค่าจำนวนสมาชิกใน array ซึ่งในกรณีนี้คือ 5 ดังนั้น numbers[numbers.Length - 1] ก็จะหมายถึงสมาชิกตัวสุดท้ายเช่นกัน"
   ]
  },
  {
   "cell_type": "markdown",
   "metadata": {},
   "source": [
    "#### 4.4.3 การเปลี่ยนขนาดของอารเรย์ "
   ]
  },
  {
   "cell_type": "markdown",
   "metadata": {},
   "source": [
    "เมื่อสร้างขึ้นครั้งแรก อาร์เรย์ในภาษา C# มีขนาดคงที่ เราไม่สามารถเพิ่มหรือลดจำนวน element ในอาร์เรย์ได้โดยตรง อย่างไรก็ตาม มีวิธีการจัดการกับขนาดของอาร์เรย์ได้ ดังนี้\n",
    "\n",
    "__1.  ใช้เมธอด Array.Resize<T>()__ \n",
    "\n",
    "วิธีนี้เป็นวิธีที่สะดวกที่สุดในการเปลี่ยนขนาดอาร์เรย์ ซึ่ง Array.Resize<T>() จะสร้างอาร์เรย์ใหม่ที่มีขนาดตามที่กำหนด แล้วคัดลอก element จากอาร์เรย์เดิมไปยังอาร์เรย์ใหม่ จากนั้นอาร์เรย์เดิมจะถูกแทนที่ด้วยอาร์เรย์ใหม่นี้\n",
    " "
   ]
  },
  {
   "cell_type": "code",
   "execution_count": 9,
   "metadata": {
    "dotnet_interactive": {
     "language": "csharp"
    },
    "polyglot_notebook": {
     "kernelName": "csharp"
    },
    "vscode": {
     "languageId": "csharp"
    }
   },
   "outputs": [
    {
     "name": "stdout",
     "output_type": "stream",
     "text": [
      "Array length = 5\n",
      "After  Array.Resize(ref arr, 10), Array length = 10\n"
     ]
    }
   ],
   "source": [
    "int[] arr = new int[5]; // สร้างอาร์เรย์ขนาด 5\n",
    "\n",
    "Console.WriteLine($\"Array length = {arr.Length}\");\n",
    "\n",
    "Array.Resize(ref arr, 10); // เปลี่ยนขนาดเป็น 10\n",
    "Console.WriteLine($\"After  Array.Resize(ref arr, 10), Array length = {arr.Length}\");\n"
   ]
  },
  {
   "cell_type": "markdown",
   "metadata": {},
   "source": [
    "__2. ใช้วิธีการสร้างอาร์เรย์ใหม่__ "
   ]
  },
  {
   "cell_type": "markdown",
   "metadata": {},
   "source": [
    "ทำได้โดยการสร้างอาร์เรย์ใหม่ที่มีขนาดตามต้องการ แล้วคัดลอก element จากอาร์เรย์เดิมไปยังอาร์เรย์ใหม่ด้วยตัวเอง วิธีนี้มีความยืดหยุ่นมากกว่าวิธีแรก แต่ต้องเขียนโค้ดเอง นั่นหมายความว่ามีความเสี่ยงที่จะเกิด error"
   ]
  },
  {
   "cell_type": "code",
   "execution_count": 10,
   "metadata": {
    "vscode": {
     "languageId": "csharp"
    }
   },
   "outputs": [
    {
     "name": "stdout",
     "output_type": "stream",
     "text": [
      "Array length = 5\n",
      "After create new array, Array length = 10\n"
     ]
    }
   ],
   "source": [
    "int[] arr = new int[5]; // สร้างอาร์เรย์ขนาด 5\n",
    "int[] newArr = new int[10]; // สร้างอาร์เรย์ใหม่ขนาด 10\n",
    "\n",
    "Console.WriteLine($\"Array length = {arr.Length}\");\n",
    "// คัดลอก element จากอาร์เรย์เดิมไปยังอาร์เรย์ใหม่\n",
    "for (int i = 0; i < arr.Length; i++)\n",
    "{\n",
    "    newArr[i] = arr[i];\n",
    "}\n",
    "\n",
    "arr = newArr; // กำหนดให้ arr ชี้ไปยังอาร์เรย์ใหม่\n",
    "Console.WriteLine($\"After create new array, Array length = {arr.Length}\");"
   ]
  },
  {
   "cell_type": "markdown",
   "metadata": {},
   "source": [
    "__3. ใช้ List\\<T\\>__ "
   ]
  },
  {
   "cell_type": "markdown",
   "metadata": {},
   "source": [
    "List\\<T\\> เป็นคลาสที่คล้ายกับอาร์เรย์ แต่มีขนาดแบบไดนามิก สามารถเพิ่มหรือลด element ได้โดยตรง หากต้องการความยืดหยุ่นในการเปลี่ยนแปลงขนาดอาร์เรย์ List\\<T\\> เป็นตัวเลือกที่ดีกว่า"
   ]
  },
  {
   "cell_type": "code",
   "execution_count": 11,
   "metadata": {
    "vscode": {
     "languageId": "csharp"
    }
   },
   "outputs": [
    {
     "name": "stdout",
     "output_type": "stream",
     "text": [
      "Size of list = 0\n",
      "Size of list = 1\n",
      "Size of list = 2\n",
      "Size of list = 1\n"
     ]
    }
   ],
   "source": [
    "List<int> list = new List<int>(); // สร้าง List\n",
    "Console.WriteLine($\"Size of list = {list.Count}\");\n",
    "\n",
    "list.Add(1); // เพิ่ม element\n",
    "Console.WriteLine($\"Size of list = {list.Count}\");\n",
    "list.Add(2);\n",
    "Console.WriteLine($\"Size of list = {list.Count}\");\n",
    "list.RemoveAt(0); // ลบ element\n",
    "Console.WriteLine($\"Size of list = {list.Count}\");\n"
   ]
  },
  {
   "cell_type": "markdown",
   "metadata": {},
   "source": [
    "---"
   ]
  },
  {
   "cell_type": "markdown",
   "metadata": {},
   "source": [
    "รายละเอียดในหัวข้อเรื่อง array ยัง มีอีกมาก ในการทดลองนี้เป็นเพียงการทำความรู้จักเป็นการเบื้องต้น\n",
    "\n",
    "นักศึกษาจะได้เรียนรู้จากการทดลองเขียนโปรแกรมในรูปแบบต่าง ๆ ต่อไปตามลำดับ"
   ]
  }
 ],
 "metadata": {
  "kernelspec": {
   "display_name": ".NET (C#)",
   "language": "C#",
   "name": ".net-csharp"
  },
  "language_info": {
   "file_extension": ".cs",
   "mimetype": "text/x-csharp",
   "name": "C#",
   "pygments_lexer": "csharp",
   "version": "12.0"
  },
  "polyglot_notebook": {
   "kernelInfo": {
    "defaultKernelName": "csharp",
    "items": [
     {
      "aliases": [],
      "languageName": "csharp",
      "name": "csharp"
     }
    ]
   }
  }
 },
 "nbformat": 4,
 "nbformat_minor": 2
}
